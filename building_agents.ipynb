{
  "cells": [
    {
      "cell_type": "code",
      "execution_count": null,
      "id": "903ee3b9-64b4-4eef-a1fa-e5556a048f00",
      "metadata": {
        "id": "903ee3b9-64b4-4eef-a1fa-e5556a048f00"
      },
      "outputs": [],
      "source": [
        "!pip install crewai\n",
        "!pip install langchain\n",
        "!pip install openai\n",
        "# !pip install crewai_tools\n",
        "# !pip install tiktoken"
      ]
    },
    {
      "cell_type": "code",
      "source": [
        "import crewai\n",
        "from crewai import Agent, Task, Crew\n",
        "import os\n",
        "from openai import OpenAI\n",
        "# Set the API key\n",
        "os.environ[\"OPENAI_API_KEY\"] = '......................'\n",
        "\n",
        "# Initialize the OpenAI client (if needed)\n",
        "client = OpenAI(api_key=os.environ[\"OPENAI_API_KEY\"])"
      ],
      "metadata": {
        "id": "-o1Try1J347G"
      },
      "id": "-o1Try1J347G",
      "execution_count": 2,
      "outputs": []
    },
    {
      "cell_type": "code",
      "source": [
        "# Warning control\n",
        "import warnings\n",
        "warnings.filterwarnings('ignore')"
      ],
      "metadata": {
        "id": "WuaWR8pjB6du"
      },
      "id": "WuaWR8pjB6du",
      "execution_count": 3,
      "outputs": []
    },
    {
      "cell_type": "markdown",
      "source": [
        "## Multi Agents\n",
        "Six key elements which help agents perform better:\n",
        "- Role playing\n",
        "- Focus\n",
        "- Tools\n",
        "- Cooperation\n",
        "- Guiderails\n",
        "- Memory"
      ],
      "metadata": {
        "id": "dOWP0EMuBcOk"
      },
      "id": "dOWP0EMuBcOk"
    },
    {
      "cell_type": "markdown",
      "source": [
        "### **Role Playing, Focus, and Cooperation**"
      ],
      "metadata": {
        "id": "9hmf5Nc5CAkp"
      },
      "id": "9hmf5Nc5CAkp"
    },
    {
      "cell_type": "code",
      "source": [
        "# Defining Agents\n",
        "researcher = Agent(role='Senior Researcher',\n",
        "                   goal = \"Be the most knowledgeable and resourceful researcher \"\n",
        "         \"in your team, focusing on the latest advancements in \"\n",
        "         \"computational fluid dynamics (CFD) and mechanical design.\",\n",
        "                   backstory=(\"You are a Senior Researcher with a deep passion for \"\n",
        "        \"mechanical engineering and CFD. You work at a top-tier \"\n",
        "        \"engineering firm, collaborating with a team of experts \"\n",
        "        \"to push the boundaries of design and analysis.\"\n",
        "        \"Your primary objective is to stay at the forefront of \"\n",
        "        \"technological advancements in CFD and mechanical design, \"\n",
        "        \"providing comprehensive and detailed research findings \"\n",
        "        \"to support your team.\"\n",
        "        \"Make sure to provide full complete answers, \"\n",
        "        \"and make no assumptions.\"),\n",
        "                   allow_delegation=False,\n",
        "                   verbose=True\n",
        "                   )\n",
        "support_quality_assurance_agent = Agent(role='Research Quality Assurance Specialist',\n",
        "                                        goal=\"Get recognition for ensuring the highest quality and accuracy \"\n",
        "         \"in research outputs within your team.\",\n",
        "                                        backstory=( \"You are a Research Quality Assurance Specialist with a keen eye \"\n",
        "        \"for detail and a strong commitment to excellence. \"\n",
        "        \"You work at a leading engineering firm, where your primary responsibility \"\n",
        "        \"is to ensure that all research conducted by your team meets the highest standards \"\n",
        "        \"of accuracy and completeness.\\n\"\n",
        "        \"You are currently collaborating with your team on a project focusing on {project_topic}, \"\n",
        "        \"ensuring that the research conducted is thorough, accurate, and assumes nothing.\"\n",
        "        \"Your goal is to make sure that the research reports provided by the team are complete, \"\n",
        "        \"precise, and actionable.\"),\n",
        "                                        allow_delegation=True,\n",
        "                                        verbose=True)"
      ],
      "metadata": {
        "id": "M7wSKcjCA8yF"
      },
      "id": "M7wSKcjCA8yF",
      "execution_count": 4,
      "outputs": []
    },
    {
      "cell_type": "markdown",
      "source": [
        "#### Points to consider\n",
        "- Role Playing: both agents have been given role, goal and backstory\n",
        "- Focus: Both agents have been prompted to get into the character of roles they are playing\n",
        "- Cooperation: Support quality assurance agent can delegate work back to Senior Researcher allowing these agents to work together."
      ],
      "metadata": {
        "id": "bOWotjKqaLgh"
      },
      "id": "bOWotjKqaLgh"
    },
    {
      "cell_type": "markdown",
      "source": [
        "### **Tools, Guardrails, and Memory**"
      ],
      "metadata": {
        "id": "obJoNTwmcSil"
      },
      "id": "obJoNTwmcSil"
    },
    {
      "cell_type": "markdown",
      "source": [
        "#### *Tools*"
      ],
      "metadata": {
        "id": "aBMt2ezucXqO"
      },
      "id": "aBMt2ezucXqO"
    },
    {
      "cell_type": "code",
      "source": [
        "from crewai_tools import SerperDevTool, \\\n",
        "                        ScrapeWebsiteTool, \\\n",
        "                        WebsiteSearchTool"
      ],
      "metadata": {
        "id": "8P7-Sgida5w_"
      },
      "id": "8P7-Sgida5w_",
      "execution_count": 5,
      "outputs": []
    },
    {
      "cell_type": "markdown",
      "source": [
        "##### Different Ways to Give Agents Tools\n",
        "\n",
        "- Agent Level: The Agent can use the Tool(s) on any Task it performs.\n",
        "- Task Level: The Agent will only use the Tool(s) when performing that specific Task.\n",
        "\n",
        "**Note**: Task Tools override the Agent Tools."
      ],
      "metadata": {
        "id": "JUU7xspg-lfD"
      },
      "id": "JUU7xspg-lfD"
    },
    {
      "cell_type": "code",
      "source": [
        "# instantiate the tools\n",
        "search_tool=SerperDevTool()\n",
        "docs_scrape_tool1 = ScrapeWebsiteTool(\n",
        "    website_url=\"https://www.neuralconcept.com/post/applying-machine-learning-in-cfd-to-accelerate-simulation#:~:text=Artificial%20Intelligence%20can%20boost%20CFD,and%20heat%20transfer%20in%20common.\"\n",
        ")\n",
        "\n",
        "docs_scrape_tool2 = ScrapeWebsiteTool(\n",
        "    website_url=\"https://en.wikipedia.org/wiki/Computational_fluid_dynamics#:~:text=Computational%20fluid%20dynamics%20(CFD)%20is,problems%20that%20involve%20fluid%20flows.\"\n",
        ")\n"
      ],
      "metadata": {
        "id": "IuIM-svrc5JM"
      },
      "id": "IuIM-svrc5JM",
      "execution_count": 6,
      "outputs": []
    },
    {
      "cell_type": "code",
      "source": [
        "# Defining Tasks\n",
        "ai_application_in_cfd = Task(\n",
        "    description=(\"Conduct comprehensive online research on {project_topic_ai}.\\n\\n\"\n",
        "        \"Explore AI-driven optimization techniques, machine learning models \"\n",
        "        \"for fluid flow prediction, and advancements in automated mesh generation.\"\n",
        "    ),\n",
        "    expected_output = (\"A detailed research summary highlighting key findings on AI applications \"\n",
        "        \"in CFD, including examples of successful implementations and their impact \"\n",
        "        \"on computational efficiency and accuracy.\\n\"\n",
        "        \"Provide references to academic papers, industry reports, and software tools.\"\n",
        "),\n",
        "    tools=[search_tool, docs_scrape_tool1],\n",
        "    agent=researcher,\n",
        "    verbose=True\n",
        ")\n",
        "\n",
        "cfd_advancements_research = Task(\n",
        "    description = (\"Conduct comprehensive research on the latest advancements on {project_topic_cfd}\"),\n",
        "    expected_output = (\"A detailed research report summarizing recent advancements in CFD \"\n",
        "        \"for aerospace applications.\\n\"\n",
        "        \"Include references to academic papers, conference proceedings, and \"\n",
        "        \"industry reports supporting the findings.\"),\n",
        "    tools = [search_tool, docs_scrape_tool2],\n",
        "    agent=researcher,\n",
        "    verbose=True\n",
        ")\n",
        "\n",
        "\n",
        "# Task: Verify AI Applications Research in Mechanical Design\n",
        "ai_applications_quality_assurance = Task(\n",
        "    description=(\n",
        "        \"Verify the accuracy and completeness of the research on AI applications \"\n",
        "        \"in optimizing mechanical design processes conducted by the Senior Researcher.\\n\\n\"\n",
        "        \"Ensure that the report includes comprehensive references and supports \"\n",
        "        \"all claims with relevant data and examples.\"\n",
        "    ),\n",
        "    expected_output=(\n",
        "        \"A quality assurance assessment confirming the reliability and relevance \"\n",
        "        \"of the AI applications research in mechanical design.\\n\"\n",
        "        \"Provide recommendations for enhancing the report's clarity and \"\n",
        "        \"expanding on practical implications.\"\n",
        "    ),\n",
        "    agent=support_quality_assurance_agent,\n",
        ")\n",
        "\n",
        "\n",
        "\n",
        "cfd_advancements_quality_assurance = Task(\n",
        "    description=(\n",
        "        \"Review the research report on recent advancements in computational \"\n",
        "        \"fluid dynamics (CFD) for aerospace applications produced by the Senior Researcher.\\n\\n\"\n",
        "        \"Ensure the report meets high standards of accuracy, clarity, and relevance to \"\n",
        "        \"current industry challenges.\"\n",
        "    ),\n",
        "    expected_output=(\n",
        "        \"A detailed quality assurance report assessing the strengths and weaknesses \"\n",
        "        \"of the CFD advancements research.\\n\"\n",
        "        \"Provide constructive feedback on clarity, completeness, and relevance of \"\n",
        "        \"the findings.\"\n",
        "    ),\n",
        "    agent=support_quality_assurance_agent,\n",
        ")"
      ],
      "metadata": {
        "id": "IE8BAeYw_IrK"
      },
      "id": "IE8BAeYw_IrK",
      "execution_count": 7,
      "outputs": []
    },
    {
      "cell_type": "markdown",
      "source": [
        "### Creating the Crew\n",
        "\n",
        "#### Memory\n",
        "- Setting `memory=True` when putting the crew together enables Memory."
      ],
      "metadata": {
        "id": "XDLejSvvEec1"
      },
      "id": "XDLejSvvEec1"
    },
    {
      "cell_type": "code",
      "source": [
        "crew = Crew(\n",
        "    agents = [researcher, support_quality_assurance_agent],\n",
        "    tasks = [ai_application_in_cfd, cfd_advancements_research, cfd_advancements_quality_assurance],\n",
        "    memory=True,\n",
        ")"
      ],
      "metadata": {
        "id": "Hhr03utDEgES"
      },
      "id": "Hhr03utDEgES",
      "execution_count": 8,
      "outputs": []
    },
    {
      "cell_type": "markdown",
      "source": [
        "### Running the Crew\n",
        "#### Guardrails\n",
        "- By running the execution below, you can see that the agents and the responses are within the scope of what we expect from them."
      ],
      "metadata": {
        "id": "XOv37CJ_E6Wv"
      },
      "id": "XOv37CJ_E6Wv"
    },
    {
      "cell_type": "code",
      "source": [
        "# Define the inputs for the Senior Researcher (researcher)\n",
        "\n",
        "inputs = {\n",
        "    'project_topic': \"AI Applications in Mechanical Design and CFD and recent advancements in CFD\",\n",
        "    'project_topic_cfd': \"Recent Advancements in Computational Fluid Dynamics (CFD)\",\n",
        "    'project_topic_ai': \"AI Applications in Mechanical Design and CFD\"\n",
        "\n",
        "}\n",
        "\n",
        "# Kick off the crew with the provided inputs\n",
        "result = crew.kickoff(inputs=inputs)\n"
      ],
      "metadata": {
        "id": "o60P1O6PE8pj"
      },
      "id": "o60P1O6PE8pj",
      "execution_count": 10,
      "outputs": []
    }
  ],
  "metadata": {
    "kernelspec": {
      "display_name": "Python 3 (ipykernel)",
      "language": "python",
      "name": "python3"
    },
    "language_info": {
      "codemirror_mode": {
        "name": "ipython",
        "version": 3
      },
      "file_extension": ".py",
      "mimetype": "text/x-python",
      "name": "python",
      "nbconvert_exporter": "python",
      "pygments_lexer": "ipython3",
      "version": "3.12.2"
    },
    "colab": {
      "provenance": []
    }
  },
  "nbformat": 4,
  "nbformat_minor": 5
}